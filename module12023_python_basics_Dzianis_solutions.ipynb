{
  "cells": [
    {
      "cell_type": "markdown",
      "metadata": {
        "id": "view-in-github",
        "colab_type": "text"
      },
      "source": [
        "<a href=\"https://colab.research.google.com/github/DennisB676/hello-dennis/blob/main/module12023_python_basics_Dzianis_solutions.ipynb\" target=\"_parent\"><img src=\"https://colab.research.google.com/assets/colab-badge.svg\" alt=\"Open In Colab\"/></a>"
      ]
    },
    {
      "cell_type": "markdown",
      "metadata": {
        "id": "x0KYi_pWB54i"
      },
      "source": [
        "# A ridiculously brief introduction to Python\n",
        "\n",
        "Python is increasing in popularity, particularly among data scientists.\n",
        "\n",
        "![python.png](attachment:python.png)\n",
        "\n",
        "<img src=\"https://cdn.stackoverflow.co/images/jo7n4k8s/production/c0eda188d6c55b4a6bdc9f75544c257179944ee9-1024x878.png\" style=\"width 300px;\">\n",
        "\n",
        "\n",
        "Image Source: https://stackoverflow.blog/2017/09/06/incredible-growth-python/"
      ]
    },
    {
      "cell_type": "markdown",
      "source": [
        "https://stackoverflow.blog/2017/09/06/incredible-growth-python/\n"
      ],
      "metadata": {
        "id": "RbE77Ee70dsY"
      }
    },
    {
      "cell_type": "markdown",
      "source": [],
      "metadata": {
        "id": "9uip5kZG0kiw"
      }
    },
    {
      "cell_type": "code",
      "execution_count": null,
      "metadata": {
        "id": "fDdm1P0SB54k"
      },
      "outputs": [],
      "source": [
        "import this"
      ]
    },
    {
      "cell_type": "markdown",
      "metadata": {
        "id": "ZAutBLOoB54k"
      },
      "source": [
        "## Basic Arithmetic in Python 3\n",
        "\n",
        "Python is a dynamically typed language. Type checking is done as the code runs and so you do not need to declare variable type"
      ]
    },
    {
      "cell_type": "code",
      "execution_count": null,
      "metadata": {
        "colab": {
          "base_uri": "https://localhost:8080/"
        },
        "id": "5qFVBPFkB54k",
        "outputId": "e5a3df1b-6aba-4c17-da8f-f6314a1d0541"
      },
      "outputs": [
        {
          "output_type": "execute_result",
          "data": {
            "text/plain": [
              "16"
            ]
          },
          "metadata": {},
          "execution_count": 3
        }
      ],
      "source": [
        "# addition/subtraction\n",
        "x, y = 11, 5\n",
        "x + y"
      ]
    },
    {
      "cell_type": "code",
      "execution_count": null,
      "metadata": {
        "colab": {
          "base_uri": "https://localhost:8080/"
        },
        "id": "f5CNO7GyB54k",
        "outputId": "86238ba2-e05a-4822-8d82-29a68772a8ac"
      },
      "outputs": [
        {
          "output_type": "execute_result",
          "data": {
            "text/plain": [
              "55"
            ]
          },
          "metadata": {},
          "execution_count": 4
        }
      ],
      "source": [
        "# multiplication\n",
        "x*y"
      ]
    },
    {
      "cell_type": "code",
      "execution_count": null,
      "metadata": {
        "colab": {
          "base_uri": "https://localhost:8080/"
        },
        "id": "cHblP2YoB54l",
        "outputId": "1c097e53-9bed-4c23-cb62-505c3919d31c"
      },
      "outputs": [
        {
          "output_type": "execute_result",
          "data": {
            "text/plain": [
              "25"
            ]
          },
          "metadata": {},
          "execution_count": 5
        }
      ],
      "source": [
        "# raising to powers (exponentiating)\n",
        "y**2"
      ]
    },
    {
      "cell_type": "code",
      "execution_count": null,
      "metadata": {
        "colab": {
          "base_uri": "https://localhost:8080/"
        },
        "id": "82XRDZTcB54l",
        "outputId": "a89a1c2a-7d05-4e66-e7cd-5cb14ada4613"
      },
      "outputs": [
        {
          "output_type": "execute_result",
          "data": {
            "text/plain": [
              "2.2"
            ]
          },
          "metadata": {},
          "execution_count": 6
        }
      ],
      "source": [
        "# regular division\n",
        "x/y"
      ]
    },
    {
      "cell_type": "code",
      "execution_count": null,
      "metadata": {
        "colab": {
          "base_uri": "https://localhost:8080/"
        },
        "id": "ct94CczXB54l",
        "outputId": "4a4d0f71-8b87-4010-d6e4-ff7fc7483e5d"
      },
      "outputs": [
        {
          "output_type": "execute_result",
          "data": {
            "text/plain": [
              "2"
            ]
          },
          "metadata": {},
          "execution_count": 7
        }
      ],
      "source": [
        "# integer division\n",
        "x//y"
      ]
    },
    {
      "cell_type": "code",
      "execution_count": null,
      "metadata": {
        "colab": {
          "base_uri": "https://localhost:8080/"
        },
        "id": "ZTkDVSLBB54l",
        "outputId": "d568061a-4392-44be-ed96-c56b097fd6e6"
      },
      "outputs": [
        {
          "output_type": "execute_result",
          "data": {
            "text/plain": [
              "1"
            ]
          },
          "metadata": {},
          "execution_count": 8
        }
      ],
      "source": [
        "# modulus - the remainder when x is divided by y\n",
        "x%y"
      ]
    },
    {
      "cell_type": "markdown",
      "metadata": {
        "id": "lBhMYmDeB54l"
      },
      "source": [
        "For further examples with some basic python operators, see this source: https://www.tutorialspoint.com/python/python_basic_operators.htm"
      ]
    },
    {
      "cell_type": "markdown",
      "metadata": {
        "id": "x5PJ4fOdB54l"
      },
      "source": [
        "## Some mathematical functions"
      ]
    },
    {
      "cell_type": "code",
      "execution_count": null,
      "metadata": {
        "id": "x7AMGlwtB54l"
      },
      "outputs": [],
      "source": [
        "# many functions in Python must be imported from packages\n",
        "import math"
      ]
    },
    {
      "cell_type": "code",
      "execution_count": null,
      "metadata": {
        "colab": {
          "base_uri": "https://localhost:8080/"
        },
        "id": "i7vkyP00B54l",
        "outputId": "283b4d7b-dde6-4b62-f680-0f955dc28574"
      },
      "outputs": [
        {
          "output_type": "execute_result",
          "data": {
            "text/plain": [
              "3.141592653589793"
            ]
          },
          "metadata": {},
          "execution_count": 10
        }
      ],
      "source": [
        "# you must preface the functions with the package name\n",
        "math.pi"
      ]
    },
    {
      "cell_type": "code",
      "execution_count": null,
      "metadata": {
        "colab": {
          "base_uri": "https://localhost:8080/"
        },
        "id": "L38ynKmxB54l",
        "outputId": "363b6d34-fe19-4604-df7a-615e1aeca7e6"
      },
      "outputs": [
        {
          "output_type": "execute_result",
          "data": {
            "text/plain": [
              "0.8414709848078965"
            ]
          },
          "metadata": {},
          "execution_count": 11
        }
      ],
      "source": [
        "math.sin(1)"
      ]
    },
    {
      "cell_type": "code",
      "execution_count": null,
      "metadata": {
        "id": "ok3DV16TB54m"
      },
      "outputs": [],
      "source": [
        "# and if you don't like how cumbersome that is, there is a solution!\n",
        "from math import pi"
      ]
    },
    {
      "cell_type": "code",
      "execution_count": null,
      "metadata": {
        "colab": {
          "base_uri": "https://localhost:8080/"
        },
        "id": "15mh4j_oB54m",
        "outputId": "4ffad066-cbdf-4df1-e25b-a57e4095c3a6"
      },
      "outputs": [
        {
          "output_type": "execute_result",
          "data": {
            "text/plain": [
              "3.141592653589793"
            ]
          },
          "metadata": {},
          "execution_count": 13
        }
      ],
      "source": [
        "pi"
      ]
    },
    {
      "cell_type": "code",
      "execution_count": null,
      "metadata": {
        "colab": {
          "base_uri": "https://localhost:8080/"
        },
        "id": "05AkrAaLB54m",
        "outputId": "7e5659ab-4948-40cc-fa41-7178b081f491"
      },
      "outputs": [
        {
          "output_type": "execute_result",
          "data": {
            "text/plain": [
              "2.718281828459045"
            ]
          },
          "metadata": {},
          "execution_count": 14
        }
      ],
      "source": [
        "math.exp(1)"
      ]
    },
    {
      "cell_type": "code",
      "execution_count": null,
      "metadata": {
        "colab": {
          "base_uri": "https://localhost:8080/"
        },
        "id": "V8wDGBrVB54m",
        "outputId": "6bcef870-148f-42f3-b172-c4dfc208dfc8"
      },
      "outputs": [
        {
          "output_type": "execute_result",
          "data": {
            "text/plain": [
              "1.0"
            ]
          },
          "metadata": {},
          "execution_count": 15
        }
      ],
      "source": [
        "math.log(math.exp(1))"
      ]
    },
    {
      "cell_type": "code",
      "execution_count": null,
      "metadata": {
        "colab": {
          "base_uri": "https://localhost:8080/"
        },
        "id": "zZqwowuRB54m",
        "outputId": "58a0882e-e090-40a8-ad7f-767c0d4016c5"
      },
      "outputs": [
        {
          "output_type": "execute_result",
          "data": {
            "text/plain": [
              "2.0"
            ]
          },
          "metadata": {},
          "execution_count": 16
        }
      ],
      "source": [
        "math.log(25,5)"
      ]
    },
    {
      "cell_type": "markdown",
      "metadata": {
        "id": "u6r2dp8jB54m"
      },
      "source": [
        "For further examples with functions from the math package, see this source: https://docs.python.org/3/library/math.html"
      ]
    },
    {
      "cell_type": "markdown",
      "metadata": {
        "id": "aIzwMPRtB54m"
      },
      "source": [
        "## Fun with strings!\n",
        "\n",
        "There are two ways to denote:\n",
        "\n",
        "- You can use single quotes or\n",
        "- You can use double quotes"
      ]
    },
    {
      "cell_type": "code",
      "execution_count": null,
      "metadata": {
        "id": "YD8baj-DB54m"
      },
      "outputs": [],
      "source": [
        "string1 = 'What a nice day!'\n",
        "string2 = \"I'm hungry\"\n",
        "string3 = \"What's for dinner?\""
      ]
    },
    {
      "cell_type": "code",
      "execution_count": null,
      "metadata": {
        "colab": {
          "base_uri": "https://localhost:8080/",
          "height": 35
        },
        "id": "N6lKAknjB54m",
        "outputId": "b332b693-03cd-41b6-9d5e-e980f78ac70b"
      },
      "outputs": [
        {
          "output_type": "execute_result",
          "data": {
            "text/plain": [
              "\"What a nice day! What's for dinner?\""
            ],
            "application/vnd.google.colaboratory.intrinsic+json": {
              "type": "string"
            }
          },
          "metadata": {},
          "execution_count": 18
        }
      ],
      "source": [
        "# String concatenation\n",
        "\n",
        "string1 + string3\n",
        "\n",
        "string1 + ' ' + string3"
      ]
    },
    {
      "cell_type": "code",
      "execution_count": null,
      "metadata": {
        "colab": {
          "base_uri": "https://localhost:8080/",
          "height": 35
        },
        "id": "YSV8Yv1PB54m",
        "outputId": "40f502ee-773b-436b-e40e-5c8bc7ecef4d"
      },
      "outputs": [
        {
          "output_type": "execute_result",
          "data": {
            "text/plain": [
              "'hat '"
            ],
            "application/vnd.google.colaboratory.intrinsic+json": {
              "type": "string"
            }
          },
          "metadata": {},
          "execution_count": 19
        }
      ],
      "source": [
        "# Indexing a string\n",
        "\n",
        "string1[1:5]"
      ]
    },
    {
      "cell_type": "code",
      "execution_count": null,
      "metadata": {
        "colab": {
          "base_uri": "https://localhost:8080/"
        },
        "id": "t3jFiSa8B54m",
        "outputId": "30b08894-5485-4be2-af28-f5d5ebfc9ed2"
      },
      "outputs": [
        {
          "output_type": "stream",
          "name": "stdout",
          "text": [
            "hat\n"
          ]
        }
      ],
      "source": [
        "print(string1[1:4])"
      ]
    },
    {
      "cell_type": "markdown",
      "metadata": {
        "id": "FcQiJnJ6B54n"
      },
      "source": [
        "But we can also go back and forth between strings and integers:"
      ]
    },
    {
      "cell_type": "code",
      "execution_count": null,
      "metadata": {
        "id": "l3bCcBt5B54n"
      },
      "outputs": [],
      "source": [
        "today = '07Sep2023'"
      ]
    },
    {
      "cell_type": "markdown",
      "metadata": {
        "id": "6iNStewRB54n"
      },
      "source": [
        "You can slice this char-string like an array. The results are themselves char-strings."
      ]
    },
    {
      "cell_type": "code",
      "execution_count": null,
      "metadata": {
        "id": "Mqrw_48kB54n"
      },
      "outputs": [],
      "source": [
        "day = today[0:2]  # python is 0-based\n",
        "month = today[2:5]\n",
        "year = today[5:]"
      ]
    },
    {
      "cell_type": "code",
      "execution_count": null,
      "metadata": {
        "colab": {
          "base_uri": "https://localhost:8080/",
          "height": 35
        },
        "id": "NNC7JaIqB54n",
        "outputId": "f384c22c-8a68-40a3-b3b0-5cd04f247ee6"
      },
      "outputs": [
        {
          "output_type": "execute_result",
          "data": {
            "text/plain": [
              "'07'"
            ],
            "application/vnd.google.colaboratory.intrinsic+json": {
              "type": "string"
            }
          },
          "metadata": {},
          "execution_count": 23
        }
      ],
      "source": [
        "day"
      ]
    },
    {
      "cell_type": "code",
      "execution_count": null,
      "metadata": {
        "colab": {
          "base_uri": "https://localhost:8080/"
        },
        "id": "Dvh9kRYRB54n",
        "outputId": "fec0fe9a-e009-4a0c-cc0d-65ccb1fb05ae"
      },
      "outputs": [
        {
          "output_type": "stream",
          "name": "stdout",
          "text": [
            "07 Sep 2023\n"
          ]
        }
      ],
      "source": [
        "print(day,month,year)"
      ]
    },
    {
      "cell_type": "code",
      "execution_count": null,
      "metadata": {
        "colab": {
          "base_uri": "https://localhost:8080/"
        },
        "id": "d_SW2flrB54n",
        "outputId": "92e9d392-2eb5-4b47-bc24-c814ffacf82c"
      },
      "outputs": [
        {
          "output_type": "execute_result",
          "data": {
            "text/plain": [
              "(8, 'Sep', '2023')"
            ]
          },
          "metadata": {},
          "execution_count": 25
        }
      ],
      "source": [
        "tomorrow = int(day) + 1\n",
        "tomorrow, month, year\n"
      ]
    },
    {
      "cell_type": "code",
      "execution_count": null,
      "metadata": {
        "colab": {
          "base_uri": "https://localhost:8080/"
        },
        "id": "x8anD_qgB54n",
        "outputId": "f64ff71b-7a15-4732-b028-09f34314e5a3"
      },
      "outputs": [
        {
          "output_type": "stream",
          "name": "stdout",
          "text": [
            "What a nice day! I'm hungry What's for dinner?. This is a nice example, and the date is 07 Sep 2023\n"
          ]
        }
      ],
      "source": [
        "print(f\"{string1} {string2} {string3}. This is a nice example, and the date is {day} {month} {year}\")"
      ]
    },
    {
      "cell_type": "markdown",
      "metadata": {
        "id": "RygcgOoOB54n"
      },
      "source": [
        "### Lists\n",
        "\n",
        "Lists are the most basic form of array-like object in Python.\n",
        "\n",
        "It's fairly natural to use a list like a **stack (Last-in, First-out)**. You don't need to import any special functionalities, you can simply append the the end of the list and pop from the end of the list.\n",
        "\n",
        "It is possible to treat a list like a **queue (First-in, First-out)**. You can specify where you'd like to insert a new element with the insert method. And you can use list.pop([i]) to \"pop\" an element residing at index i from the list. However, you should keep in mind that inserting elements near the beginning of a list is **slow**. That's because when you insert a new element at the beginning, you need to shift all of the other elements over by one. For that reason, you may want to use the deque functionality from `collections`. Deque stands for double-ended queue; it was written to allow for fast pops and appends from both the end *and* the beginning of a list."
      ]
    },
    {
      "cell_type": "code",
      "execution_count": null,
      "metadata": {
        "id": "6Az7kfcaB54n"
      },
      "outputs": [],
      "source": [
        "# we can store whatever we want in lists!\n",
        "x = [2,1,5,'the kitchen sink', 3.14, math.pi, []]"
      ]
    },
    {
      "cell_type": "code",
      "execution_count": null,
      "metadata": {
        "colab": {
          "base_uri": "https://localhost:8080/"
        },
        "id": "x1UhZ6O4B54n",
        "outputId": "621172bb-a1d2-4aef-9ff3-3ded5d17ba07"
      },
      "outputs": [
        {
          "output_type": "execute_result",
          "data": {
            "text/plain": [
              "2"
            ]
          },
          "metadata": {},
          "execution_count": 28
        }
      ],
      "source": [
        "# remember, Python indexing starts at 0\n",
        "x[0]"
      ]
    },
    {
      "cell_type": "code",
      "execution_count": null,
      "metadata": {
        "colab": {
          "base_uri": "https://localhost:8080/"
        },
        "id": "fzqRKmdvB54n",
        "outputId": "56a73741-b11e-40a9-86aa-5d9d032ec03f"
      },
      "outputs": [
        {
          "output_type": "execute_result",
          "data": {
            "text/plain": [
              "[1, 5]"
            ]
          },
          "metadata": {},
          "execution_count": 29
        }
      ],
      "source": [
        "# and array/list slicing in Python ending index in EXCLUSIVE,\n",
        "# but the beginning index is INCLUSIVE\n",
        "x[1:3]"
      ]
    },
    {
      "cell_type": "code",
      "execution_count": null,
      "metadata": {
        "colab": {
          "base_uri": "https://localhost:8080/"
        },
        "id": "E-5KkQGBB54n",
        "outputId": "0e84f8ed-45c4-4763-822f-6a5c23f28609"
      },
      "outputs": [
        {
          "output_type": "execute_result",
          "data": {
            "text/plain": [
              "[]"
            ]
          },
          "metadata": {},
          "execution_count": 30
        }
      ],
      "source": [
        "# you can even reference elements from the end of the list!\n",
        "x[-1]"
      ]
    },
    {
      "cell_type": "code",
      "execution_count": null,
      "metadata": {
        "colab": {
          "base_uri": "https://localhost:8080/"
        },
        "id": "TEodFdDEB54n",
        "outputId": "dc7ff501-e372-419c-872e-1d2dc10757c9"
      },
      "outputs": [
        {
          "output_type": "execute_result",
          "data": {
            "text/plain": [
              "3.141592653589793"
            ]
          },
          "metadata": {},
          "execution_count": 31
        }
      ],
      "source": [
        "x[-2]"
      ]
    },
    {
      "cell_type": "code",
      "execution_count": null,
      "metadata": {
        "colab": {
          "base_uri": "https://localhost:8080/"
        },
        "id": "hEHgag3UB54o",
        "outputId": "90aabe57-1594-4498-b0dc-dbc12a67cc19"
      },
      "outputs": [
        {
          "output_type": "execute_result",
          "data": {
            "text/plain": [
              "[3.141592653589793, []]"
            ]
          },
          "metadata": {},
          "execution_count": 32
        }
      ],
      "source": [
        "x[-2:]"
      ]
    },
    {
      "cell_type": "code",
      "execution_count": null,
      "metadata": {
        "colab": {
          "base_uri": "https://localhost:8080/"
        },
        "id": "VbV_T9vTB54o",
        "outputId": "0cb755a1-fac6-4ee8-bf99-8986a4248370"
      },
      "outputs": [
        {
          "output_type": "stream",
          "name": "stdout",
          "text": [
            "[2, 1, 5, 'the kitchen sink', 3.14, 3.141592653589793, [], 5]\n"
          ]
        }
      ],
      "source": [
        "# Appending to a list:\n",
        "\n",
        "x.append(5)\n",
        "\n",
        "print(x)"
      ]
    },
    {
      "cell_type": "code",
      "execution_count": null,
      "metadata": {
        "colab": {
          "base_uri": "https://localhost:8080/"
        },
        "id": "nzMl9djiB54o",
        "outputId": "14f2add9-54f1-45ad-c3d4-5131fc778272"
      },
      "outputs": [
        {
          "output_type": "execute_result",
          "data": {
            "text/plain": [
              "5"
            ]
          },
          "metadata": {},
          "execution_count": 34
        }
      ],
      "source": [
        "# Remove last element from a list:\n",
        "\n",
        "x.pop()"
      ]
    },
    {
      "cell_type": "code",
      "execution_count": null,
      "metadata": {
        "colab": {
          "base_uri": "https://localhost:8080/"
        },
        "id": "stjYlJ32B54o",
        "outputId": "a64c0446-ea27-4131-f166-c578f9f22ee8"
      },
      "outputs": [
        {
          "output_type": "execute_result",
          "data": {
            "text/plain": [
              "[2, 1, 5, 'the kitchen sink', 3.14, 3.141592653589793, []]"
            ]
          },
          "metadata": {},
          "execution_count": 35
        }
      ],
      "source": [
        "x"
      ]
    },
    {
      "cell_type": "code",
      "execution_count": null,
      "metadata": {
        "id": "HLIURFkPB54o"
      },
      "outputs": [],
      "source": [
        "x.remove(2)"
      ]
    },
    {
      "cell_type": "code",
      "execution_count": null,
      "metadata": {
        "colab": {
          "base_uri": "https://localhost:8080/"
        },
        "id": "xaGVcEd5B54p",
        "outputId": "35067250-91af-4535-cefa-dd49a260e901"
      },
      "outputs": [
        {
          "output_type": "execute_result",
          "data": {
            "text/plain": [
              "[1, 5, 'the kitchen sink', 3.14, 3.141592653589793, []]"
            ]
          },
          "metadata": {},
          "execution_count": 37
        }
      ],
      "source": [
        "x"
      ]
    },
    {
      "cell_type": "code",
      "execution_count": null,
      "metadata": {
        "id": "Lde-gnlxB54p"
      },
      "outputs": [],
      "source": [
        "# list.insert(i, elem)\n",
        "x.insert(3, \"the kitchen sink\")"
      ]
    },
    {
      "cell_type": "code",
      "execution_count": null,
      "metadata": {
        "colab": {
          "base_uri": "https://localhost:8080/"
        },
        "id": "pHWhyARZB54p",
        "outputId": "8d034455-2b93-4899-e090-c4962825ca58"
      },
      "outputs": [
        {
          "output_type": "execute_result",
          "data": {
            "text/plain": [
              "[1, 5, 'the kitchen sink', 'the kitchen sink', 3.14, 3.141592653589793, []]"
            ]
          },
          "metadata": {},
          "execution_count": 39
        }
      ],
      "source": [
        "x"
      ]
    },
    {
      "cell_type": "code",
      "execution_count": null,
      "metadata": {
        "colab": {
          "base_uri": "https://localhost:8080/"
        },
        "id": "EQUTJPUbB54p",
        "outputId": "660fceef-2b08-4214-9bd5-deed29bb14de"
      },
      "outputs": [
        {
          "output_type": "execute_result",
          "data": {
            "text/plain": [
              "False"
            ]
          },
          "metadata": {},
          "execution_count": 40
        }
      ],
      "source": [
        "7 in x"
      ]
    },
    {
      "cell_type": "code",
      "execution_count": null,
      "metadata": {
        "colab": {
          "base_uri": "https://localhost:8080/"
        },
        "id": "yhWW0jAXB54p",
        "outputId": "682a1fe9-6af2-4202-83ee-e35939d85831"
      },
      "outputs": [
        {
          "output_type": "execute_result",
          "data": {
            "text/plain": [
              "1"
            ]
          },
          "metadata": {},
          "execution_count": 41
        }
      ],
      "source": [
        "from collections import deque\n",
        "\n",
        "queue = deque(x)\n",
        "queue.popleft()"
      ]
    },
    {
      "cell_type": "markdown",
      "metadata": {
        "id": "rJRT0WMZB54p"
      },
      "source": [
        "For further information about lists, see this source: https://docs.python.org/3/tutorial/datastructures.html"
      ]
    },
    {
      "cell_type": "markdown",
      "metadata": {
        "id": "kd4abGjpB54p"
      },
      "source": [
        "### if/else and logical operators"
      ]
    },
    {
      "cell_type": "code",
      "execution_count": null,
      "metadata": {
        "id": "AVpb1SqaB54p"
      },
      "outputs": [],
      "source": [
        "# Assign the value of 5 to a variable called x\n",
        "x = 8"
      ]
    },
    {
      "cell_type": "code",
      "execution_count": null,
      "metadata": {
        "colab": {
          "base_uri": "https://localhost:8080/"
        },
        "id": "GyfWhbreB54p",
        "outputId": "4d995fa3-2552-4282-e2c9-48f5a4b7a2e0"
      },
      "outputs": [
        {
          "output_type": "stream",
          "name": "stdout",
          "text": [
            "x is even!\n"
          ]
        }
      ],
      "source": [
        "# Set up a conditional to test the parity of x\n",
        "if x//2 == x/2:\n",
        "    print('x is even!')\n",
        "else:\n",
        "    print('x is odd!')"
      ]
    },
    {
      "cell_type": "code",
      "execution_count": null,
      "metadata": {
        "colab": {
          "base_uri": "https://localhost:8080/"
        },
        "id": "nIlEt3X4B54p",
        "outputId": "1d347ebb-3ff0-4cd4-e76e-ad493ad30693"
      },
      "outputs": [
        {
          "output_type": "stream",
          "name": "stdout",
          "text": [
            "x is Not False\n"
          ]
        }
      ],
      "source": [
        "# If a condition is \"NOT False\", it will be executed.\n",
        "if x:\n",
        "    print('x is Not False')\n",
        "else:\n",
        "    print('x is a liar\"')"
      ]
    },
    {
      "cell_type": "code",
      "execution_count": null,
      "metadata": {
        "colab": {
          "base_uri": "https://localhost:8080/"
        },
        "id": "NLisbQ1MB54q",
        "outputId": "dd26ec40-799b-4742-df89-cbc79f72a4c5"
      },
      "outputs": [
        {
          "output_type": "stream",
          "name": "stdout",
          "text": [
            "Hmm, that seems strange\n",
            "1\n"
          ]
        }
      ],
      "source": [
        "# You can switch back and forth between using True and False or the respective integers 1 and 0\n",
        "\n",
        "if True == 1: print(\"Hmm, that seems strange\")\n",
        "else: print(\"All is well\")\n",
        "\n",
        "print(True + False)"
      ]
    },
    {
      "cell_type": "code",
      "execution_count": null,
      "metadata": {
        "colab": {
          "base_uri": "https://localhost:8080/"
        },
        "id": "oF5h1wazB54q",
        "outputId": "3993dd33-732e-4beb-fcf3-7d7a6b8bd573"
      },
      "outputs": [
        {
          "output_type": "stream",
          "name": "stdout",
          "text": [
            "You need to spend significantly more time studying.\n"
          ]
        }
      ],
      "source": [
        "# Syntax for else and else if clauses\n",
        "# Python will check each block in succession and executes the first\n",
        "# one that it finds to be true.\n",
        "# If none of these are true and an else clause is defined, then python\n",
        "# will execute the lines within the else block.\n",
        "# If no else block is specified, then python will not execute any\n",
        "# of the expressions.\n",
        "\n",
        "y = 24\n",
        "\n",
        "if y < 10:\n",
        "    print(\"Please see me in my office.\")\n",
        "\n",
        "elif 10 <= y < 50:\n",
        "    print(\"You need to spend significantly more time studying.\")\n",
        "\n",
        "elif 50 <= y < 70:\n",
        "    print(\"I suggest looking for a private tutor.\")\n",
        "\n",
        "elif 70 <= y < 85:\n",
        "    print(\"Solid work.\")\n",
        "\n",
        "elif 85 <= y < 90:\n",
        "    print(\"Nice job!\")\n",
        "\n",
        "else:\n",
        "    print(\"Outstanding!\")\n"
      ]
    },
    {
      "cell_type": "code",
      "execution_count": null,
      "metadata": {
        "colab": {
          "base_uri": "https://localhost:8080/"
        },
        "id": "L7pFo4yGB54q",
        "outputId": "be71997a-4780-41fb-b93a-1f85abb433da"
      },
      "outputs": [
        {
          "output_type": "stream",
          "name": "stdout",
          "text": [
            "Outstanding!\n"
          ]
        }
      ],
      "source": [
        "# This set of consecutive if statements will also provide the same result. All if statements\n",
        "# will be tested. In the previous example, once a condition is met, the other \"elifs\" will\n",
        "# be skipped.\n",
        "\n",
        "y = 90\n",
        "\n",
        "if y < 10:\n",
        "    print(\"Please see me in my office.\")\n",
        "\n",
        "if 10 <= y < 50:\n",
        "    print(\"You need to spend significantly more time studying.\")\n",
        "\n",
        "if 50 <= y < 70:\n",
        "    print(\"I suggest looking for a private tutor.\")\n",
        "\n",
        "if 70 <= y < 85:\n",
        "    print(\"Solid work.\")\n",
        "\n",
        "if 85 <= y < 90:\n",
        "    print(\"Nice job!\")\n",
        "\n",
        "if y >= 90:\n",
        "    print(\"Outstanding!\")"
      ]
    },
    {
      "cell_type": "code",
      "execution_count": null,
      "metadata": {
        "colab": {
          "base_uri": "https://localhost:8080/"
        },
        "id": "3dR9jWDbB54q",
        "outputId": "8a9eb8b7-e285-4cb1-a348-bdb31ba4a01f"
      },
      "outputs": [
        {
          "output_type": "stream",
          "name": "stdout",
          "text": [
            "Red and Black.\n"
          ]
        }
      ],
      "source": [
        "# We can also compress an if/else code block into one line\n",
        "\n",
        "in_Colorado = False\n",
        "\n",
        "print(\"It's a beautiful life.\") if in_Colorado else print(\"Red and Black.\")"
      ]
    },
    {
      "cell_type": "markdown",
      "metadata": {
        "id": "eWjB0RTsB54q"
      },
      "source": [
        "### Loops\n",
        "\n",
        "You can loop over indices like you would in C++ or Fortran by using `range`. Note that `range(3)` makes use of the fact that Python is 0-based and will loop over something of length 3: [0, 1, 2]"
      ]
    },
    {
      "cell_type": "code",
      "execution_count": null,
      "metadata": {
        "colab": {
          "base_uri": "https://localhost:8080/"
        },
        "id": "ETwfXTWgB54q",
        "outputId": "a6f20594-d92d-4394-daa3-9ff26d5fec6e"
      },
      "outputs": [
        {
          "output_type": "stream",
          "name": "stdout",
          "text": [
            "3\n",
            "6\n",
            "54\n",
            "sleepy\n"
          ]
        }
      ],
      "source": [
        "# Let's start off with a basic for loop\n",
        "list1 = [3,6,54, \"sleepy\"]\n",
        "for i in list1:\n",
        "    print(i)\n",
        "\n"
      ]
    },
    {
      "cell_type": "code",
      "execution_count": null,
      "metadata": {
        "colab": {
          "base_uri": "https://localhost:8080/"
        },
        "id": "Uu43EpqnB54q",
        "outputId": "8db921e8-13f8-473d-9936-59944a1eca4b"
      },
      "outputs": [
        {
          "output_type": "stream",
          "name": "stdout",
          "text": [
            "[0, 1, 2]\n"
          ]
        }
      ],
      "source": [
        "print(list(range(3)))"
      ]
    },
    {
      "cell_type": "markdown",
      "metadata": {
        "id": "MoZ4PYdzB54q"
      },
      "source": [
        "You can also loop over the elements of a list:"
      ]
    },
    {
      "cell_type": "code",
      "execution_count": null,
      "metadata": {
        "colab": {
          "base_uri": "https://localhost:8080/"
        },
        "id": "j7YWN4raB54q",
        "outputId": "498abdf6-892b-42a3-f305-dcd52054309b"
      },
      "outputs": [
        {
          "output_type": "stream",
          "name": "stdout",
          "text": [
            "2\n",
            "7\n",
            "-153\n"
          ]
        },
        {
          "output_type": "execute_result",
          "data": {
            "text/plain": [
              "-153"
            ]
          },
          "metadata": {},
          "execution_count": 51
        }
      ],
      "source": [
        "x = [2, 7, -153]\n",
        "\n",
        "# Demonstrate a for loop that loops over the elements in the given list and prints them to the screen\n",
        "\n",
        "for i in x:\n",
        "  print(i)\n",
        "\n",
        "2\n",
        "7\n",
        "-153\n"
      ]
    },
    {
      "cell_type": "code",
      "execution_count": null,
      "metadata": {
        "colab": {
          "base_uri": "https://localhost:8080/"
        },
        "id": "liyJXjMmB54q",
        "outputId": "54fb0f73-4b20-4bdd-8f59-32ca149bfec6"
      },
      "outputs": [
        {
          "output_type": "stream",
          "name": "stdout",
          "text": [
            "2\n",
            "7\n",
            "-153\n"
          ]
        }
      ],
      "source": [
        "# Demonstrate the syntax difference in just looping over the indices\n",
        "for i in range(len(x)):\n",
        "  print(x[i])\n",
        "\n"
      ]
    },
    {
      "cell_type": "code",
      "execution_count": null,
      "metadata": {
        "colab": {
          "base_uri": "https://localhost:8080/"
        },
        "id": "anKvxlY5B54r",
        "outputId": "667a41be-cd3f-45ba-9745-4329a96aeaad"
      },
      "outputs": [
        {
          "output_type": "stream",
          "name": "stdout",
          "text": [
            "[0, 1, 2, 3, 4]\n",
            "[1, 2, 3, 4]\n",
            "[1, 6, 11, 16, 21]\n"
          ]
        }
      ],
      "source": [
        "# Investigate the difference between range(5) and range(1,5)\n",
        "print(list(range(5)))\n",
        "print(list(range(1,5)))\n",
        "print(list(range(1,25,5)))\n"
      ]
    },
    {
      "cell_type": "markdown",
      "metadata": {
        "id": "Sl12wIYXB54r"
      },
      "source": [
        "### List Comprehension\n",
        "\n",
        "A list comprehension is a very concise way to create a list. Recall lines 5 and 6 from the Zen of Python song:\n",
        "\n",
        "Flat is better than nested.\n",
        "Sparse is better than dense.\n",
        "\n",
        "Essentially, instead of constructing a several line loop to modify element of a list (or append new elements, or...), we can create in the list in ***one*** line!"
      ]
    },
    {
      "cell_type": "code",
      "execution_count": null,
      "metadata": {
        "colab": {
          "base_uri": "https://localhost:8080/"
        },
        "id": "QvHf1A1nB54r",
        "outputId": "f6301c3b-c5de-43bc-a2ad-f754a5579921"
      },
      "outputs": [
        {
          "output_type": "stream",
          "name": "stdout",
          "text": [
            "[0, 1, 2, 3, 4]\n",
            "[0, 1, 2, 3, 4]\n"
          ]
        }
      ],
      "source": [
        "# For example, consider a for loop to add elements one by one to a list\n",
        "listOfFive = []\n",
        "for i in range(5):\n",
        "    listOfFive.append(i)\n",
        "\n",
        "print(listOfFive)\n",
        "\n",
        "# versus a List Comprehension\n",
        "listcomp1 = [i for i in range(5)]\n",
        "print(listcomp1)"
      ]
    },
    {
      "cell_type": "code",
      "execution_count": null,
      "metadata": {
        "colab": {
          "base_uri": "https://localhost:8080/"
        },
        "id": "h_gOvPeAB54r",
        "outputId": "2e733ede-fb18-49dc-9a22-4d2fcc71c194"
      },
      "outputs": [
        {
          "output_type": "stream",
          "name": "stdout",
          "text": [
            "[False, False, False, True, False]\n",
            "1\n"
          ]
        }
      ],
      "source": [
        "# Write a list comprehension that contains boolean values. Specifically, have the entry in the list be TRUE\n",
        "# if the value in listcomp1 is 3 and FALSE otherwise\n",
        "booleans = [i==3 for i in listcomp1]\n",
        "print(booleans)\n",
        "\n",
        "# Report the total number of times that 3 appeared in the list, listcomp1\n",
        "count = len([elem for elem in listcomp1 if elem == 3])\n",
        "print(count)"
      ]
    },
    {
      "cell_type": "code",
      "execution_count": null,
      "metadata": {
        "colab": {
          "base_uri": "https://localhost:8080/"
        },
        "id": "HynZgvf6B54r",
        "outputId": "32136920-a22b-43e8-c73a-0f91287eb734"
      },
      "outputs": [
        {
          "output_type": "execute_result",
          "data": {
            "text/plain": [
              "[(0, 5),\n",
              " (0, 6),\n",
              " (0, 7),\n",
              " (0, 8),\n",
              " (0, 9),\n",
              " (1, 5),\n",
              " (1, 6),\n",
              " (1, 7),\n",
              " (1, 8),\n",
              " (1, 9),\n",
              " (2, 5),\n",
              " (2, 6),\n",
              " (2, 7),\n",
              " (2, 8),\n",
              " (2, 9),\n",
              " (3, 5),\n",
              " (3, 6),\n",
              " (3, 7),\n",
              " (3, 8),\n",
              " (3, 9),\n",
              " (4, 5),\n",
              " (4, 6),\n",
              " (4, 7),\n",
              " (4, 8),\n",
              " (4, 9)]"
            ]
          },
          "metadata": {},
          "execution_count": 56
        }
      ],
      "source": [
        "# Use a list comprehension to generate (x,y) points where the x value is 0, 1, 2, 3, 4 and the y value is 5, 6, 7, 8, 9\n",
        "points = [(x, y) for x in range(5) for y in range(5,10)]\n",
        "points"
      ]
    },
    {
      "cell_type": "code",
      "execution_count": null,
      "metadata": {
        "colab": {
          "base_uri": "https://localhost:8080/"
        },
        "id": "Xi93YnwAB54r",
        "outputId": "ee1c0f33-7bfe-41d1-b75a-745a25151446"
      },
      "outputs": [
        {
          "output_type": "execute_result",
          "data": {
            "text/plain": [
              "[(0, 5),\n",
              " (0, 6),\n",
              " (0, 7),\n",
              " (0, 8),\n",
              " (1, 5),\n",
              " (1, 6),\n",
              " (1, 7),\n",
              " (1, 8),\n",
              " (2, 5),\n",
              " (2, 6),\n",
              " (2, 7),\n",
              " (2, 8),\n",
              " (3, 5),\n",
              " (3, 6),\n",
              " (3, 7),\n",
              " (3, 8),\n",
              " (4, 5),\n",
              " (4, 6),\n",
              " (4, 7),\n",
              " (4, 8)]"
            ]
          },
          "metadata": {},
          "execution_count": 57
        }
      ],
      "source": [
        "# Modify the above to exclude any points with a y coordinate larger than 8\n",
        "newpoints = [(x, y) for x in range(5) for y in range(5,10) if y<=8]\n",
        "newpoints"
      ]
    },
    {
      "cell_type": "markdown",
      "metadata": {
        "id": "8b4_kbbMB54r"
      },
      "source": [
        "For further information and examples of list comprehensions, see this source: https://docs.python.org/3/tutorial/datastructures.html"
      ]
    },
    {
      "cell_type": "markdown",
      "metadata": {
        "id": "3ypMYHMPB54r"
      },
      "source": [
        "### Defining functions"
      ]
    },
    {
      "cell_type": "markdown",
      "metadata": {
        "id": "YMpgVhKFB54r"
      },
      "source": [
        "I love numbers, but bigger numbers are nice. So let's write a function to add one to a number."
      ]
    },
    {
      "cell_type": "code",
      "execution_count": null,
      "metadata": {
        "id": "aKsxQKe6B54r"
      },
      "outputs": [],
      "source": [
        "def plus_one_easy(x):\n",
        "    '''   <-- this initial comment is a docstring. Use the tab-completion to witness its FULL POWERS\n",
        "    Input:\n",
        "    x = a number\n",
        "    Output:\n",
        "    y = a number that is x+1\n",
        "    '''\n",
        "    y = x + 1\n",
        "\n",
        "    return y\n",
        "\n"
      ]
    },
    {
      "cell_type": "code",
      "source": [
        "new_number = plus_one_easy(777)\n",
        "new_number"
      ],
      "metadata": {
        "id": "Wo57wNBd3Xbr",
        "colab": {
          "base_uri": "https://localhost:8080/"
        },
        "outputId": "429e2e98-324e-4367-f055-ad1e0a38ff5c"
      },
      "execution_count": null,
      "outputs": [
        {
          "output_type": "execute_result",
          "data": {
            "text/plain": [
              "778"
            ]
          },
          "metadata": {},
          "execution_count": 59
        }
      ]
    },
    {
      "cell_type": "markdown",
      "metadata": {
        "id": "sNB6qv5jB54r"
      },
      "source": [
        "What if we make it a little trickier?"
      ]
    },
    {
      "cell_type": "code",
      "execution_count": null,
      "metadata": {
        "id": "xgusUu-_B54s"
      },
      "outputs": [],
      "source": [
        "def plus_one(x):\n",
        "    '''\n",
        "    Input:\n",
        "    x = a list\n",
        "    Output:\n",
        "    y = a list of same length as x, where each element is one more than the corresponding element of x\n",
        "    '''\n",
        "\n",
        "    y = [i+1 for i in x]\n",
        "\n",
        "    return y"
      ]
    },
    {
      "cell_type": "code",
      "source": [
        "plus_one([1, 2, 3, 4])"
      ],
      "metadata": {
        "colab": {
          "base_uri": "https://localhost:8080/"
        },
        "id": "-FriwRu04JXF",
        "outputId": "37d07797-fe9b-4a4a-8039-f2531c07d098"
      },
      "execution_count": null,
      "outputs": [
        {
          "output_type": "execute_result",
          "data": {
            "text/plain": [
              "[2, 3, 4, 5]"
            ]
          },
          "metadata": {},
          "execution_count": 61
        }
      ]
    },
    {
      "cell_type": "code",
      "source": [
        "plus_one([33, 4, 665, 777])"
      ],
      "metadata": {
        "colab": {
          "base_uri": "https://localhost:8080/"
        },
        "id": "6F3YW_Bj4lOM",
        "outputId": "d5109d97-c9a8-44bf-da47-f11848a3117e"
      },
      "execution_count": null,
      "outputs": [
        {
          "output_type": "execute_result",
          "data": {
            "text/plain": [
              "[34, 5, 666, 778]"
            ]
          },
          "metadata": {},
          "execution_count": 62
        }
      ]
    },
    {
      "cell_type": "markdown",
      "metadata": {
        "id": "ejs4Chl6B54s"
      },
      "source": [
        "## Monte Carlo Simulation - Coin Flips\n",
        "\n",
        "Let's practice much of what we just covered above with a Monte Carlo simulation.\n",
        "\n",
        "We will begin by simulating a random coin flip. To do this, we will use the random.choice function from NumPy. You can read more about numpy.random.choice here: https://numpy.org/doc/stable/reference/random/generated/numpy.random.choice.html\n",
        "\n",
        "We will simulate the possible results of flipping a coin by making a list of two strings, \"H\" and \"T\" for a result of Heads and Tails respectively. Call the numpy.random.choice function to make a random choice from our `flip` list. Unless we specify other probabilities, numpy.random.choice will assign all values in a list equal probabilities."
      ]
    },
    {
      "cell_type": "code",
      "execution_count": null,
      "metadata": {
        "colab": {
          "base_uri": "https://localhost:8080/"
        },
        "id": "hYucVqJgB54s",
        "outputId": "219cee5c-6c0d-4663-e37f-5c36f182d056"
      },
      "outputs": [
        {
          "output_type": "stream",
          "name": "stdout",
          "text": [
            "H\n"
          ]
        }
      ],
      "source": [
        "# Begin by importing the NumPy package\n",
        "import numpy as np\n",
        "\n",
        "# Create a list with strings to represent the posible results of a coin flip.\n",
        "flip = [\"H\",\"T\"]\n",
        "\n",
        "# Call the numpy.random.choice function to make a random choice from our `flip` list.\n",
        "result = np.random.choice(flip)\n",
        "\n",
        "print(result)"
      ]
    },
    {
      "cell_type": "markdown",
      "metadata": {
        "id": "neYkX6vAB54s"
      },
      "source": [
        "Alright, now let's simulate 25 flips of a coin. We can do this in a couple of ways. We could create a for loop and run it 25 times, calling numpy.random.choice each time. Or, we can use the size parameter in the random.choice function."
      ]
    },
    {
      "cell_type": "code",
      "execution_count": null,
      "metadata": {
        "colab": {
          "base_uri": "https://localhost:8080/"
        },
        "id": "kByT516aB54s",
        "outputId": "8ff7e7b7-6d48-4cd8-b5fb-743f5767c1a7"
      },
      "outputs": [
        {
          "output_type": "stream",
          "name": "stdout",
          "text": [
            "['T', 'T', 'T', 'H', 'T', 'T', 'H', 'H', 'H', 'T', 'T', 'T', 'H', 'H', 'T', 'T', 'H', 'H', 'H', 'T', 'T', 'H', 'T', 'H', 'H']\n"
          ]
        }
      ],
      "source": [
        "# Simulate 25 flips using a loop\n",
        "#TODO\n",
        "flips25 = []\n",
        "for i in range(25):\n",
        "  flips25.append(np.random.choice(flip))\n",
        "\n",
        "print(flips25)"
      ]
    },
    {
      "cell_type": "code",
      "execution_count": null,
      "metadata": {
        "colab": {
          "base_uri": "https://localhost:8080/"
        },
        "id": "V75aIps2B54s",
        "outputId": "5946a051-3f0f-47f6-ac54-8361fb1b8fbe"
      },
      "outputs": [
        {
          "output_type": "stream",
          "name": "stdout",
          "text": [
            "['H' 'T' 'H' 'T' 'H' 'H' 'T' 'T' 'T' 'T' 'H' 'T' 'H' 'H' 'T' 'H' 'T' 'H'\n",
            " 'H' 'T' 'T' 'H' 'T' 'H' 'T' 'H' 'H' 'H' 'T']\n"
          ]
        }
      ],
      "source": [
        "# Simuliate 25 flips using the size parameter in the random.choice function\n",
        "#TODO\n",
        "flips = np.random.choice(flip, size=29)\n",
        "\n",
        "print(flips)"
      ]
    },
    {
      "cell_type": "markdown",
      "metadata": {
        "id": "BpigG_qiB54s"
      },
      "source": [
        "We can also adjust the probabilities of flipping a Heads versus Tails by adding a probabilities parameter as seen in the next cell. This is useful if you are trying to simulate a biased coin."
      ]
    },
    {
      "cell_type": "markdown",
      "metadata": {
        "id": "hSaczp_QB54s"
      },
      "source": [
        "---\n",
        "\n",
        "**Quick note on probability**. We will use the following way of computing the probability of observing Heads.\n",
        "\n",
        "$$ P(\\text{Heads}) = \\frac{\\text{Number of coin flips the come up \"H\"}}{\\text{Total Number of Flips}}$$\n",
        "\n",
        "---"
      ]
    },
    {
      "cell_type": "code",
      "execution_count": null,
      "metadata": {
        "colab": {
          "base_uri": "https://localhost:8080/"
        },
        "id": "VKZAJB0vB54s",
        "outputId": "7cf1566a-a6f8-43ea-c862-1258fa09f6e5"
      },
      "outputs": [
        {
          "output_type": "stream",
          "name": "stdout",
          "text": [
            "0.6\n"
          ]
        }
      ],
      "source": [
        "# Calculate and print the probability of Heads from the list of flips\n",
        "flips = ['T', 'H', 'H', 'T', 'T', 'T', 'H', 'H', 'H', 'H', 'H', 'T', 'T', 'H', 'H']\n",
        "total_flips = len(flips)\n",
        "total_H = flips.count('H')\n",
        "\n",
        "prob_H = total_H/total_flips\n",
        "\n",
        "# # Calculate and print the probability of Tails from the list of flips\n",
        "print(prob_H)"
      ]
    },
    {
      "cell_type": "markdown",
      "metadata": {
        "id": "lqoo8lDiB54t"
      },
      "source": [
        "Now, we are going to put together much of what we've just learned to create a simulation that flips a coin 1000 times and reports back the ratio of results that are Heads to the total number of random flips, i.e. the probability of observing a result of \"H\"."
      ]
    },
    {
      "cell_type": "code",
      "execution_count": null,
      "metadata": {
        "colab": {
          "base_uri": "https://localhost:8080/"
        },
        "id": "dMT7AoCUB54t",
        "outputId": "364d86f5-4e4e-4a34-b6e8-4713fc5591c4"
      },
      "outputs": [
        {
          "output_type": "execute_result",
          "data": {
            "text/plain": [
              "0.5003400000000003"
            ]
          },
          "metadata": {},
          "execution_count": 67
        }
      ],
      "source": [
        "#np.random.seed(712)\n",
        "\n",
        "def coinflipsim(num_flips):\n",
        "    \"\"\" This function (coinflipsim) simulates n (num_flips) coin flips and return P(Heads).\"\"\"\n",
        "    # 1. create a list containing the results of num_flips number of random coin flips\n",
        "    flips = np .random.choice([\"H\", \"T\"], size=num_flips)\n",
        "\n",
        "    # 2. sum up the number of heads\n",
        "    num_heads = sum(flips=='H')\n",
        "\n",
        "    # 3. compute the probability of the coin coming up heads, call this variable prob_heads\n",
        "    prob_heads = num_heads / num_flips\n",
        "\n",
        "    # 4. return prob_heads\n",
        "    return prob_heads\n",
        "\n",
        "\n",
        "# call the coinflipsim function 100 times with num_flips = 100 each time\n",
        "runs = [coinflipsim(100) for i in range(1000 )]\n",
        "average = sum(runs)/len(runs)\n",
        "average\n",
        "\n",
        "# compute the average prob_heads\n",
        "\n",
        "# Two ways to compute the average result. The first is to use a for loop. The second is to\n",
        "# use a list comprehension."
      ]
    },
    {
      "cell_type": "markdown",
      "metadata": {
        "id": "ztml2-yUB54t"
      },
      "source": [
        "What do you think np.random.seed does?"
      ]
    },
    {
      "cell_type": "markdown",
      "metadata": {
        "id": "SGFHaeWKB54t"
      },
      "source": [
        "## Monte Carlo - Empirical Estimation of $\\pi$"
      ]
    },
    {
      "cell_type": "markdown",
      "metadata": {
        "id": "6P5gaY0XB54t"
      },
      "source": [
        "Suppose we have a circle with radius $r$. Then the area of the circle is $\\pi r^2$. Now consider circumscribing the circle with a square. The square would necessarily have sides of length $2r$.\n",
        "\n",
        "![circleandsquare.png](attachment:circleandsquare.png)"
      ]
    },
    {
      "cell_type": "markdown",
      "metadata": {
        "id": "G2TAK-42B54t"
      },
      "source": [
        "The area of the square is: $$ A_S = (2r) \\cdot (2r) = 4r^2 $$\n",
        "\n",
        "The ratio of the area of the circle to the area of the square is: $$ \\frac{A_C}{A_S} = \\frac{\\pi r^2}{4r^2} = \\frac{\\pi}{4} $$"
      ]
    },
    {
      "cell_type": "markdown",
      "metadata": {
        "id": "f18b6SmDB54t"
      },
      "source": [
        "Suppose we fired 10,000 evenly distributed arrows at the square above. Some of these arrows would land within the circle and some of them would land outside of the circle. Let's count the number of arrows that fall within the circle and call it $n_c$.\n",
        "\n",
        "Then, we could say that $$ \\frac{\\pi}{4} \\approx \\frac{n_c}{n} $$\n",
        "\n",
        "Thus, $$ \\pi \\approx 4 \\cdot \\frac{n_c}{n} $$"
      ]
    },
    {
      "cell_type": "markdown",
      "metadata": {
        "id": "EnyQC7nJB54t"
      },
      "source": [
        "We are going to use Python to run a Monte Carlo simulation that will end up resulting in an estimate of $\\pi$.\n",
        "\n",
        "Step 1: Let's suppose $r=1$. Let's also suppose that the center of the circle is sitting at the origin of the Cartesian coordinate system.\n",
        "\n",
        "![origin.png](attachment:origin.png)"
      ]
    },
    {
      "cell_type": "markdown",
      "metadata": {
        "id": "L5b8f9__B54t"
      },
      "source": [
        "We will suppose that the square extends from $-1 \\leq x \\leq 1$ and $-1 \\leq y \\leq 1$.\n",
        "\n",
        "The equation of the circle would be: $x^2 + y^2 = 1$.\n",
        "\n",
        "- The top half of the circle is given by: $y = \\sqrt{1-x^2}$\n",
        "\n",
        "- The bottom half of the circle is given by: $y = -\\sqrt{1-x^2}$\n",
        "\n",
        "We'll need to check if the arrow lands in the circle or not. This amounts to checking if the $y$ coordinate is between:\n",
        "$$ -\\sqrt{1-x^2} \\leq y \\leq \\sqrt{1-x^2}$$\n",
        "\n",
        "We will begin by writing a function that takes in the $(x, y)$ coordinates of an arrow and returns a boolean value of True or False, depending on whether or not the arrow is within the circle (True) or not (False)."
      ]
    },
    {
      "cell_type": "code",
      "execution_count": null,
      "metadata": {
        "id": "4SAJjio0B54t"
      },
      "outputs": [],
      "source": [
        "# Define a function named \"in_circle()\" with two input arguments x and y\n",
        "    # Write an inequality condition to check whether the y coordinate lies below the top arch\n",
        "    # of the circle and above the bottom arch.\n",
        "    # Store this result in a variable named, \"in_c\". Note that this variable had a boolean value.\n",
        "    # return a boolean value of True if the \"arrow\" lands in the circle and False if not"
      ]
    },
    {
      "cell_type": "markdown",
      "metadata": {
        "id": "n6RHUnqCB54t"
      },
      "source": [
        "Now, let's write a way to simulate an even distribution of $n$ \"arrows\" that are shot at our square \"target\".\n",
        "\n",
        "To do this, instead of using numpy.random.choice, we will use another function called numpy.random.uniform. This function allows you to make a random draw from a range of real numbers. Each number in the given range is given an equal probability of being drawn (uniform disstribution).\n",
        "\n",
        "You can read more about the numpy.random.uniform distribution here: https://numpy.org/doc/stable/reference/random/generated/numpy.random.uniform.html\n",
        "\n",
        "You can read more about the uniform distribution here: https://en.wikipedia.org/wiki/Continuous_uniform_distribution"
      ]
    },
    {
      "cell_type": "code",
      "execution_count": null,
      "metadata": {
        "id": "jgZqd1YfB54u",
        "colab": {
          "base_uri": "https://localhost:8080/"
        },
        "outputId": "c57c8c14-62cd-4edd-e8f3-d4760d71851d"
      },
      "outputs": [
        {
          "output_type": "execute_result",
          "data": {
            "text/plain": [
              "(-0.16816147504209855, -0.9955034690641444)"
            ]
          },
          "metadata": {},
          "execution_count": 69
        }
      ],
      "source": [
        "# Here we are making a random draw of values between -1 and 1. We will assign these values to\n",
        "# x and y to simulate coordinates of an imaginary \"arrow\"\n",
        "\n",
        "# Execute this cell a few times to see how different \"coordinates\" are chosen each time.\n",
        "x, y = np.random.uniform(-1,1, size=2)\n",
        "x, y"
      ]
    },
    {
      "cell_type": "markdown",
      "metadata": {
        "id": "JpiApi2_B54u"
      },
      "source": [
        "Lastly, we will put all of this together to write a simulation to shoot $n$ arrows are the square and return the estimate of $\\pi$!"
      ]
    },
    {
      "cell_type": "code",
      "execution_count": null,
      "metadata": {
        "id": "dL-JDEzhB54u",
        "colab": {
          "base_uri": "https://localhost:8080/",
          "height": 141
        },
        "outputId": "30087fad-d10c-41c2-b597-b0d0cac08564"
      },
      "outputs": [
        {
          "output_type": "error",
          "ename": "SyntaxError",
          "evalue": "ignored",
          "traceback": [
            "\u001b[0;36m  File \u001b[0;32m\"<ipython-input-70-06d37571c33d>\"\u001b[0;36m, line \u001b[0;32m14\u001b[0m\n\u001b[0;31m    # Call the function 1500 times to determine your estimation of pi.\u001b[0m\n\u001b[0m                                                                      ^\u001b[0m\n\u001b[0;31mSyntaxError\u001b[0m\u001b[0;31m:\u001b[0m incomplete input\n"
          ]
        }
      ],
      "source": [
        "def pi_estimate(n):\n",
        "\n",
        "    # Initialize a counter for the number of arrows that land within the circle to 0\n",
        "\n",
        "    # Write a for loop that will:\n",
        "    # 1) Choose a random coordinate for an arrow within the square [-1,1]x[-1,1 and\n",
        "    # 2) Call the in_circle function to test whether the arrow landed inside the circle or not\n",
        "    # 3) Count the number of times that an arrow landed within the circle and store this\n",
        "    #    amount in the counter variable initialized above.\n",
        "\n",
        "    # Return the estimate of pi using the ratio 4*n_c/n as derived at the beginning of\n",
        "    # the problem write-up\n",
        "\n",
        "# Call the function 1500 times to determine your estimation of pi."
      ]
    },
    {
      "cell_type": "markdown",
      "metadata": {
        "id": "-tH2v57sB54u"
      },
      "source": [
        "Increase `num_arrows` and see how your estimate of $\\pi$ changes."
      ]
    }
  ],
  "metadata": {
    "kernelspec": {
      "display_name": "Python 3 (ipykernel)",
      "language": "python",
      "name": "python3"
    },
    "language_info": {
      "codemirror_mode": {
        "name": "ipython",
        "version": 3
      },
      "file_extension": ".py",
      "mimetype": "text/x-python",
      "name": "python",
      "nbconvert_exporter": "python",
      "pygments_lexer": "ipython3",
      "version": "3.9.13"
    },
    "colab": {
      "provenance": [],
      "include_colab_link": true
    }
  },
  "nbformat": 4,
  "nbformat_minor": 0
}